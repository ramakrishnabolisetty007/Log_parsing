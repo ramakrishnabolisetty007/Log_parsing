{
 "cells": [
  {
   "cell_type": "code",
   "execution_count": 1,
   "metadata": {},
   "outputs": [],
   "source": [
    "import pandas as pd\n",
    "import pprint \n",
    "import re\n",
    "from IPython.display import clear_output,display,Markdown\n",
    "\n",
    "#markdown for bold text\n",
    "def printmd(string):\n",
    "    display(Markdown(string))\n"
   ]
  },
  {
   "cell_type": "code",
   "execution_count": 2,
   "metadata": {},
   "outputs": [],
   "source": [
    "#Most costliest operation; Don't run it muliple times unless there is a change input file \n",
    "#due to constraints on processing power,using a sample of approx 65k contracts\n",
    "log = pd.read_csv('sample_log', sep=\"\\r\", names=['Full_text'],encoding='latin1')\n",
    "\n",
    "#trimming the column\n",
    "log['Full_text'] = log['Full_text'].str.strip()\n"
   ]
  },
  {
   "cell_type": "code",
   "execution_count": 3,
   "metadata": {},
   "outputs": [],
   "source": [
    "#breaking the log text using regex expression\n",
    "log[['Source_ip', 'Time_stamp', 'Request_type','Resource_path','Status_code','Response_size_in_bytes']] = log.Full_text.str.split('; | - - \\[|\\] \"| /|\" | \\d',expand=True) \n",
    "\n",
    "#Filling zeros where Response_size_in_bytes is blank\n",
    "log[log.eq('')] =0\n",
    "\n",
    "#handling cases where Response_size_in_bytes has -\n",
    "log[\"Status_code\"]= log[\"Status_code\"].str.split(\"-\", n = 1, expand = True)[0]\n",
    "\n",
    "#converting status_code into numeric\n",
    "log['Status_code'] = pd.to_numeric(log['Status_code'])\n",
    "\n",
    "#Broken total dataframe into two pieces based on response status\n",
    "not_success_log = log[log['Status_code'] >= 400]\n",
    "success_log=log[log['Status_code'] <= 399]\n",
    "\n",
    "#log.head()"
   ]
  },
  {
   "cell_type": "code",
   "execution_count": 4,
   "metadata": {},
   "outputs": [],
   "source": [
    "# function to get top 10 most requested resources / pages\n",
    "def top_10_most_requested_resources():\n",
    "    #to convert this into a user input in later version\n",
    "    n = 10\n",
    "    printmd (\"**Top 10 accessed resources:**\")\n",
    "    pprint.pprint(log['Resource_path'].value_counts()[:n])\n",
    "    cli()\n",
    "    return"
   ]
  },
  {
   "cell_type": "code",
   "execution_count": 5,
   "metadata": {},
   "outputs": [],
   "source": [
    "#Function to calculate percentage of successful and unsuccessful requests\n",
    "def Percentage_of_successful_and_unsuccessful_requests():\n",
    "    \n",
    "    success = (len(success_log.index)/(len(success_log.index)+len(not_success_log.index)))*100\n",
    "    not_success = (len(not_success_log.index)/(len(success_log.index)+len(not_success_log.index)))*100\n",
    "\n",
    "    \n",
    "    printmd (\"**Percentage of successful and unsuccessful requests:**\")\n",
    "    print(\"Successful requests in % : \",success)\n",
    "    print(\"Unsuccessful requests in % : \",not_success)\n",
    "\n",
    "\n",
    "    cli()\n",
    "    return\n"
   ]
  },
  {
   "cell_type": "code",
   "execution_count": 6,
   "metadata": {},
   "outputs": [],
   "source": [
    "#function to get top 10 unsuccessful requests\n",
    "def top_10_unsuccessful_requests():\n",
    "        \n",
    "    #to convert this into a user input in later version\n",
    "    n = 10\n",
    "    printmd (\"**Top 10 Unsuccessful requests:**\")\n",
    "    pprint.pprint(not_success_log['Resource_path'].value_counts()[:n])\n",
    "    cli()\n",
    "    return "
   ]
  },
  {
   "cell_type": "code",
   "execution_count": 7,
   "metadata": {},
   "outputs": [],
   "source": [
    "#function to normalised percentage of requests\n",
    "def Percentile_of_requests():\n",
    "    printmd (\"**Normalised percentages of requests:**\")\n",
    "    pprint.pprint(log['Status_code'].value_counts(normalize=True))\n",
    "    cli()\n",
    "    return"
   ]
  },
  {
   "cell_type": "code",
   "execution_count": 8,
   "metadata": {},
   "outputs": [],
   "source": [
    "#function to get top 10 hosts\n",
    "def top_10_hosts():\n",
    "    \n",
    "    #can make n as user input variable in next version\n",
    "    n = 10\n",
    "    printmd (\"**Top 10 hosts interacting with the system:**\")\n",
    "    pprint.pprint(log['Source_ip'].value_counts()[:n])\n",
    "    cli()\n",
    "    return"
   ]
  },
  {
   "cell_type": "code",
   "execution_count": 9,
   "metadata": {},
   "outputs": [],
   "source": [
    "#function to get page hit details of top 10 hosts\n",
    "def detail_top_10_hosts():\n",
    "    printmd (\"**Top 10 hosts with their top page hits:**\")\n",
    "    pprint.pprint(log.groupby(['Source_ip', 'Resource_path']).size().sort_values(ascending=False).head(22))\n",
    "    cli()"
   ]
  },
  {
   "cell_type": "code",
   "execution_count": 10,
   "metadata": {},
   "outputs": [],
   "source": [
    "def cli():\n",
    "    #Switch case implementation using dict\n",
    "    switcher = {\n",
    "            '1': top_10_most_requested_resources,\n",
    "            '2': Percentage_of_successful_and_unsuccessful_requests,\n",
    "            '3': top_10_unsuccessful_requests,\n",
    "            '4': top_10_hosts,\n",
    "            '5': detail_top_10_hosts,\n",
    "            '6': Percentile_of_requests\n",
    "            \n",
    "    }\n",
    "\n",
    "    printmd(\"**Select from the below options:**\")\n",
    "\n",
    "    print('1:Top 10 most requested resources')\n",
    "    print('2:Percentage of Successful and Unsuccessful requests')\n",
    "    print('3:Top 10 Unsuccessful requests')\n",
    "    print('4:Top 10 hosts interacting with the system')\n",
    "    print('5:Top 10 hosts with their top page hits')\n",
    "    print('6:Percentile of requests')\n",
    "    print('x:To close')\n",
    "    user_input=input()\n",
    "    clear_output(wait=True)\n",
    "\n",
    "    #Function call\n",
    "    #Edge cases like ranom text/integer inputs are covered\n",
    "    if user_input in switcher :\n",
    "            switcher[user_input]()\n",
    "    elif user_input =='x':        \n",
    "            clear_output(wait=True)\n",
    "            printmd(\"**Thank you; You have successfully exited.**\")\n",
    "            return\n",
    "    else :\n",
    "            clear_output(wait=True)\n",
    "            printmd(\"**Invalid input;Try again!.**\")  \n",
    "            cli()\n",
    "    return\n"
   ]
  },
  {
   "cell_type": "code",
   "execution_count": null,
   "metadata": {},
   "outputs": [
    {
     "data": {
      "text/markdown": [
       "**Select from the below options:**"
      ],
      "text/plain": [
       "<IPython.core.display.Markdown object>"
      ]
     },
     "metadata": {},
     "output_type": "display_data"
    },
    {
     "name": "stdout",
     "output_type": "stream",
     "text": [
      "1:Top 10 most requested resources\n",
      "2:Percentage of Successful and Unsuccessful requests\n",
      "3:Top 10 Unsuccessful requests\n",
      "4:Top 10 hosts interacting with the system\n",
      "5:Top 10 hosts with their top page hits\n",
      "6:Percentile of requests\n",
      "x:To close\n"
     ]
    }
   ],
   "source": [
    "#User input console\n",
    "#Run this to get options\n",
    "cli()"
   ]
  },
  {
   "cell_type": "code",
   "execution_count": null,
   "metadata": {},
   "outputs": [],
   "source": []
  }
 ],
 "metadata": {
  "kernelspec": {
   "display_name": "Python 3",
   "language": "python",
   "name": "python3"
  },
  "language_info": {
   "codemirror_mode": {
    "name": "ipython",
    "version": 3
   },
   "file_extension": ".py",
   "mimetype": "text/x-python",
   "name": "python",
   "nbconvert_exporter": "python",
   "pygments_lexer": "ipython3",
   "version": "3.7.7"
  }
 },
 "nbformat": 4,
 "nbformat_minor": 4
}
